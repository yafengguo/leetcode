{
 "cells": [
  {
   "cell_type": "code",
   "execution_count": 36,
   "metadata": {},
   "outputs": [],
   "source": [
    "# 题目描述\n",
    "# 输入一个矩阵，按照从外向里以顺时针的顺序依次打印出每一个数字，例如，如果输入如下4 X 4矩阵：\n",
    "# 1 2 3 4\n",
    "# 5 6 7 8\n",
    "# 9 10 11 12\n",
    "# 13 14 15 16\n",
    "# 则依次打印出数字1,2,3,4,8,12,16,15,14,13,9,5,6,7,11,10.\n",
    "from numpy import array\n",
    "\n",
    "class Solution:\n",
    "    def printMatrix(self, matrix):\n",
    "        A = array(matrix)\n",
    "        print(matrix)\n",
    "        print(self.getTopRow(A, 0, 0, 5, 5))\n",
    "\n",
    "    def getTopRow(self, A, top_left, top_right, bottom_left, bottom_right):\n",
    "        return A[0, :top_right,]\n"
   ]
  },
  {
   "cell_type": "code",
   "execution_count": 37,
   "metadata": {},
   "outputs": [
    {
     "name": "stdout",
     "output_type": "stream",
     "text": [
      "[[1, 4, 7, 11, 15], [2, 5, 8, 12, 19], [3, 6, 9, 16, 22], [10, 13, 14, 17, 24], [18, 21, 23, 26, 30]]\n",
      "[]\n",
      "None\n"
     ]
    }
   ],
   "source": [
    "s = Solution()\n",
    "l = [\n",
    "    [1,   4,  7, 11, 15],\n",
    "    [2,   5,  8, 12, 19],\n",
    "    [3,   6,  9, 16, 22],\n",
    "    [10, 13, 14, 17, 24],\n",
    "    [18, 21, 23, 26, 30]\n",
    "]\n",
    "t = s.printMatrix(l)\n",
    "print(t)\n"
   ]
  },
  {
   "cell_type": "code",
   "execution_count": 8,
   "metadata": {},
   "outputs": [],
   "source": [
    "A = array(l)"
   ]
  },
  {
   "cell_type": "code",
   "execution_count": 9,
   "metadata": {},
   "outputs": [
    {
     "data": {
      "text/plain": [
       "array([[ 1,  4,  7, 11, 15],\n",
       "       [ 2,  5,  8, 12, 19],\n",
       "       [ 3,  6,  9, 16, 22],\n",
       "       [10, 13, 14, 17, 24],\n",
       "       [18, 21, 23, 26, 30]])"
      ]
     },
     "execution_count": 9,
     "metadata": {},
     "output_type": "execute_result"
    }
   ],
   "source": [
    "A[top_left[0],top_left[1]:top_right[1]]"
   ]
  },
  {
   "cell_type": "code",
   "execution_count": 38,
   "metadata": {},
   "outputs": [],
   "source": [
    "def getTopRow( A, top_left, top_right, bottom_left, bottom_right):\n",
    "        return A[top_left[0],top_left[1]:top_right[1]+1]"
   ]
  },
  {
   "cell_type": "code",
   "execution_count": 39,
   "metadata": {},
   "outputs": [
    {
     "data": {
      "text/plain": [
       "array([ 1,  4,  7, 11, 15])"
      ]
     },
     "execution_count": 39,
     "metadata": {},
     "output_type": "execute_result"
    }
   ],
   "source": [
    "getTopRow(A, (0, 0), (0, 4), (4, 0), (4,4))"
   ]
  },
  {
   "cell_type": "code",
   "execution_count": 40,
   "metadata": {},
   "outputs": [
    {
     "data": {
      "text/plain": [
       "[[1, 4, 7, 11, 15],\n",
       " [2, 5, 8, 12, 19],\n",
       " [3, 6, 9, 16, 22],\n",
       " [10, 13, 14, 17, 24],\n",
       " [18, 21, 23, 26, 30]]"
      ]
     },
     "execution_count": 40,
     "metadata": {},
     "output_type": "execute_result"
    }
   ],
   "source": [
    "[sublist[top_left[1]:top_right[1]+1] for sublist in l[top_left[0]]"
   ]
  },
  {
   "cell_type": "code",
   "execution_count": 52,
   "metadata": {},
   "outputs": [],
   "source": [
    "def getTopRow2( array, top_left, top_right, bottom_left, bottom_right):\n",
    "        return [sublist[top_left[1]:top_right[1]+1] for sublist in l][top_left[0]]"
   ]
  },
  {
   "cell_type": "code",
   "execution_count": 32,
   "metadata": {},
   "outputs": [],
   "source": [
    "def getRightRow(A, top_left, top_right, bottom_left, bottom_right):\n",
    "    return A[top_right[0]:bottom_right[0]+1, top_right[1]]"
   ]
  },
  {
   "cell_type": "code",
   "execution_count": 53,
   "metadata": {},
   "outputs": [
    {
     "data": {
      "text/plain": [
       "[1, 4, 7, 11, 15]"
      ]
     },
     "execution_count": 53,
     "metadata": {},
     "output_type": "execute_result"
    }
   ],
   "source": [
    "getTopRow2(l, (0, 0), (0, 4), (4, 0), (4,4))"
   ]
  },
  {
   "cell_type": "code",
   "execution_count": 56,
   "metadata": {},
   "outputs": [],
   "source": [
    "def getLeftRow( A, top_left, top_right, bottom_left, bottom_right):\n",
    "    return [sublist[top_left[1]] for sublist in l][top_left[0]:bottom_left[0]+1]"
   ]
  },
  {
   "cell_type": "code",
   "execution_count": 57,
   "metadata": {},
   "outputs": [
    {
     "data": {
      "text/plain": [
       "[1, 2, 3, 10, 18]"
      ]
     },
     "execution_count": 57,
     "metadata": {},
     "output_type": "execute_result"
    }
   ],
   "source": [
    "getLeftRow(l, (0, 0), (0, 4), (4, 0), (4,4))"
   ]
  },
  {
   "cell_type": "code",
   "execution_count": null,
   "metadata": {},
   "outputs": [],
   "source": []
  }
 ],
 "metadata": {
  "kernelspec": {
   "display_name": "Python 2",
   "language": "python",
   "name": "python2"
  },
  "language_info": {
   "codemirror_mode": {
    "name": "ipython",
    "version": 2
   },
   "file_extension": ".py",
   "mimetype": "text/x-python",
   "name": "python",
   "nbconvert_exporter": "python",
   "pygments_lexer": "ipython2",
   "version": "2.7.18"
  }
 },
 "nbformat": 4,
 "nbformat_minor": 2
}
